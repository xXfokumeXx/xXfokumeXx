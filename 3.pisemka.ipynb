{
 "cells": [
  {
   "cell_type": "markdown",
   "id": "b9fbf7de",
   "metadata": {},
   "source": [
    "Cv.1 - Vyjimky 1\n",
    "\n",
    "Napiste vhodne osetreny kod, ktery otevre soubor pro cteni."
   ]
  },
  {
   "cell_type": "code",
   "execution_count": 28,
   "id": "basic-shield",
   "metadata": {},
   "outputs": [],
   "source": [
    "try:\n",
    "    soubor = open(\"baf.txt\", \"r\")\n",
    "except FileNotFoundError:\n",
    "    print(\"soubor neexistuje, nejdříve soubor vytvořte\")\n",
    "soubor.close()"
   ]
  },
  {
   "cell_type": "markdown",
   "id": "f6887a02",
   "metadata": {},
   "source": [
    "Cv.2 - Vyjimky 2\n",
    "Napiste vhodne osetreny kod, ktery nacte 2 vstupy z klavesnice a podeli je."
   ]
  },
  {
   "cell_type": "code",
   "execution_count": 24,
   "id": "4f029423",
   "metadata": {},
   "outputs": [
    {
     "name": "stdout",
     "output_type": "stream",
     "text": [
      "Zadej delenec: 1\n",
      "Zadej delitel: 0\n",
      "nelze delit nulou!\n",
      "výpočet dokončen\n",
      "Zadej delenec: a\n",
      "muzes zadavat pouze cisla\n",
      "výpočet dokončen\n",
      "Zadej delenec: 20\n",
      "Zadej delitel: -5\n",
      "-4.0\n",
      "výpočet dokončen\n"
     ]
    }
   ],
   "source": [
    "while True:\n",
    "    try:\n",
    "        a = int(input(\"Zadej delenec: \"))\n",
    "        b = int(input(\"Zadej delitel: \"))\n",
    "    except ValueError:\n",
    "        print(\"muzes zadavat pouze cisla\")\n",
    "    else:\n",
    "        try:\n",
    "            (a/b)\n",
    "        except ZeroDivisionError:\n",
    "            print(\"nelze delit nulou!\")\n",
    "        else:\n",
    "            print(a/b)\n",
    "            break\n",
    "    finally:\n",
    "        print(\"výpočet dokončen\")"
   ]
  },
  {
   "cell_type": "markdown",
   "id": "30c2f2f5",
   "metadata": {},
   "source": [
    "Cv.3 - Vyjimky 3\n",
    "Napiste kod, ktery jen v pripade bezchybeho otevreni souboru vypise na obrazovku retezec \"v poradku\""
   ]
  },
  {
   "cell_type": "code",
   "execution_count": 38,
   "id": "presidential-oakland",
   "metadata": {},
   "outputs": [
    {
     "name": "stdout",
     "output_type": "stream",
     "text": [
      "soubor nelze otevrit\n"
     ]
    }
   ],
   "source": [
    "try:\n",
    "    soubor = open(\"test.txt\",\"r\")\n",
    "except:\n",
    "    print(\"soubor nelze otevrit, nejspis neeexistuje\")\n",
    "else:\n",
    "    print(\"v poradku\")\n",
    "    soubor.close()"
   ]
  },
  {
   "cell_type": "markdown",
   "id": "a73c32eb",
   "metadata": {},
   "source": [
    "Cv.4 - Vyjimky 4\n",
    "\n",
    "Napiste kod, ktery v pripade vstupu vetsiho jak 10 vyvola vyjimku na obrazovku s hlaskou \"cislo nesmi byt vetsi jak 10!\""
   ]
  },
  {
   "cell_type": "code",
   "execution_count": 27,
   "id": "widespread-anthropology",
   "metadata": {},
   "outputs": [
    {
     "name": "stdout",
     "output_type": "stream",
     "text": [
      "Zadej cislo: 5\n",
      "operace vykonana\n",
      "Zadej cislo: 11\n",
      "operace vykonana\n"
     ]
    },
    {
     "ename": "Exception",
     "evalue": "cislo nesmi byt vetsi jak 10!",
     "output_type": "error",
     "traceback": [
      "\u001b[1;31m---------------------------------------------------------------------------\u001b[0m",
      "\u001b[1;31mException\u001b[0m                                 Traceback (most recent call last)",
      "\u001b[1;32m<ipython-input-27-620a91cb6fe7>\u001b[0m in \u001b[0;36m<module>\u001b[1;34m\u001b[0m\n\u001b[0;32m      3\u001b[0m         \u001b[0ma\u001b[0m \u001b[1;33m=\u001b[0m \u001b[0mint\u001b[0m\u001b[1;33m(\u001b[0m\u001b[0minput\u001b[0m\u001b[1;33m(\u001b[0m\u001b[1;34m\"Zadej cislo: \"\u001b[0m\u001b[1;33m)\u001b[0m\u001b[1;33m)\u001b[0m\u001b[1;33m\u001b[0m\u001b[1;33m\u001b[0m\u001b[0m\n\u001b[0;32m      4\u001b[0m         \u001b[1;32mif\u001b[0m \u001b[0ma\u001b[0m \u001b[1;33m>\u001b[0m \u001b[1;36m10\u001b[0m\u001b[1;33m:\u001b[0m\u001b[1;33m\u001b[0m\u001b[1;33m\u001b[0m\u001b[0m\n\u001b[1;32m----> 5\u001b[1;33m             \u001b[1;32mraise\u001b[0m \u001b[0mException\u001b[0m\u001b[1;33m(\u001b[0m\u001b[1;34m\"cislo nesmi byt vetsi jak 10!\"\u001b[0m\u001b[1;33m)\u001b[0m\u001b[1;33m\u001b[0m\u001b[1;33m\u001b[0m\u001b[0m\n\u001b[0m\u001b[0;32m      6\u001b[0m         \u001b[1;32melse\u001b[0m\u001b[1;33m:\u001b[0m\u001b[1;33m\u001b[0m\u001b[1;33m\u001b[0m\u001b[0m\n\u001b[0;32m      7\u001b[0m             \u001b[1;32mcontinue\u001b[0m\u001b[1;33m\u001b[0m\u001b[1;33m\u001b[0m\u001b[0m\n",
      "\u001b[1;31mException\u001b[0m: cislo nesmi byt vetsi jak 10!"
     ]
    }
   ],
   "source": [
    "while True:\n",
    "    try:\n",
    "        a = int(input(\"Zadej cislo: \"))\n",
    "        if a > 10:\n",
    "            raise Exception(\"cislo nesmi byt vetsi jak 10!\")\n",
    "        else:\n",
    "            continue\n",
    "    finally:\n",
    "        print(\"operace vykonana\")"
   ]
  },
  {
   "cell_type": "markdown",
   "id": "e910aca0",
   "metadata": {},
   "source": [
    "Cv.5 - Soubory 1\n",
    "\n",
    "Napiste kod, ktery otevre soubor test.txt a vypise na obrazovku obsah prvnich 10ti radku."
   ]
  },
  {
   "cell_type": "code",
   "execution_count": 79,
   "id": "cooperative-filing",
   "metadata": {},
   "outputs": [
    {
     "ename": "TypeError",
     "evalue": "'<' not supported between instances of 'str' and 'int'",
     "output_type": "error",
     "traceback": [
      "\u001b[1;31m---------------------------------------------------------------------------\u001b[0m",
      "\u001b[1;31mTypeError\u001b[0m                                 Traceback (most recent call last)",
      "\u001b[1;32m<ipython-input-79-5be114dd8a12>\u001b[0m in \u001b[0;36m<module>\u001b[1;34m\u001b[0m\n\u001b[0;32m      1\u001b[0m \u001b[0msoubor\u001b[0m \u001b[1;33m=\u001b[0m \u001b[0mopen\u001b[0m\u001b[1;33m(\u001b[0m\u001b[1;34m\"test.txt\"\u001b[0m\u001b[1;33m,\u001b[0m\u001b[1;34m\"r\"\u001b[0m\u001b[1;33m)\u001b[0m\u001b[1;33m\u001b[0m\u001b[1;33m\u001b[0m\u001b[0m\n\u001b[1;32m----> 2\u001b[1;33m \u001b[0mprint\u001b[0m\u001b[1;33m(\u001b[0m\u001b[0mlist\u001b[0m\u001b[1;33m(\u001b[0m\u001b[0mradek\u001b[0m \u001b[1;32mfor\u001b[0m \u001b[0mradek\u001b[0m\u001b[1;33m,\u001b[0m \u001b[0mi\u001b[0m \u001b[1;32min\u001b[0m \u001b[0menumerate\u001b[0m\u001b[1;33m(\u001b[0m\u001b[0msoubor\u001b[0m\u001b[1;33m)\u001b[0m \u001b[1;32mif\u001b[0m \u001b[0mi\u001b[0m \u001b[1;33m<\u001b[0m \u001b[1;36m10\u001b[0m\u001b[1;33m)\u001b[0m\u001b[1;33m)\u001b[0m\u001b[1;33m\u001b[0m\u001b[1;33m\u001b[0m\u001b[0m\n\u001b[0m\u001b[0;32m      3\u001b[0m \u001b[0msoubor\u001b[0m\u001b[1;33m.\u001b[0m\u001b[0mclose\u001b[0m\u001b[1;33m(\u001b[0m\u001b[1;33m)\u001b[0m\u001b[1;33m\u001b[0m\u001b[1;33m\u001b[0m\u001b[0m\n",
      "\u001b[1;32m<ipython-input-79-5be114dd8a12>\u001b[0m in \u001b[0;36m<genexpr>\u001b[1;34m(.0)\u001b[0m\n\u001b[0;32m      1\u001b[0m \u001b[0msoubor\u001b[0m \u001b[1;33m=\u001b[0m \u001b[0mopen\u001b[0m\u001b[1;33m(\u001b[0m\u001b[1;34m\"test.txt\"\u001b[0m\u001b[1;33m,\u001b[0m\u001b[1;34m\"r\"\u001b[0m\u001b[1;33m)\u001b[0m\u001b[1;33m\u001b[0m\u001b[1;33m\u001b[0m\u001b[0m\n\u001b[1;32m----> 2\u001b[1;33m \u001b[0mprint\u001b[0m\u001b[1;33m(\u001b[0m\u001b[0mlist\u001b[0m\u001b[1;33m(\u001b[0m\u001b[0mradek\u001b[0m \u001b[1;32mfor\u001b[0m \u001b[0mradek\u001b[0m\u001b[1;33m,\u001b[0m \u001b[0mi\u001b[0m \u001b[1;32min\u001b[0m \u001b[0menumerate\u001b[0m\u001b[1;33m(\u001b[0m\u001b[0msoubor\u001b[0m\u001b[1;33m)\u001b[0m \u001b[1;32mif\u001b[0m \u001b[0mi\u001b[0m \u001b[1;33m<\u001b[0m \u001b[1;36m10\u001b[0m\u001b[1;33m)\u001b[0m\u001b[1;33m)\u001b[0m\u001b[1;33m\u001b[0m\u001b[1;33m\u001b[0m\u001b[0m\n\u001b[0m\u001b[0;32m      3\u001b[0m \u001b[0msoubor\u001b[0m\u001b[1;33m.\u001b[0m\u001b[0mclose\u001b[0m\u001b[1;33m(\u001b[0m\u001b[1;33m)\u001b[0m\u001b[1;33m\u001b[0m\u001b[1;33m\u001b[0m\u001b[0m\n",
      "\u001b[1;31mTypeError\u001b[0m: '<' not supported between instances of 'str' and 'int'"
     ]
    }
   ],
   "source": [
    "soubor = open(\"test.txt\",\"r\")\n",
    "soubor.close()"
   ]
  },
  {
   "cell_type": "markdown",
   "id": "d10f2826",
   "metadata": {},
   "source": [
    "Cv.6 - Soubory 2\n",
    "\n",
    "Napiste kod, ktery otevre soubor test.txt a zapise do nej cisla od 0 do 20, kazde cislo zvlast na novy radek."
   ]
  },
  {
   "cell_type": "code",
   "execution_count": 67,
   "id": "raised-restoration",
   "metadata": {},
   "outputs": [],
   "source": [
    "soubor = open(\"test.txt\", \"w\")\n",
    "for i in range(21):\n",
    "    soubor.write(str(i) + \"\\n\")\n",
    "soubor.close()"
   ]
  },
  {
   "cell_type": "markdown",
   "id": "9eeb6cf8",
   "metadata": {},
   "source": [
    "Cv.7 - Soubory 3\n",
    "\n",
    "Napiste kod, ktery do souboru test.txt napise vetu \"Ahoj Jirko\". Nasledne soubor zavre. Pote se znova otevre a pripise se na jeho konec hlaska \"Cau Jirko\" bez toho, aniz by byla predchozi veta smazana."
   ]
  },
  {
   "cell_type": "code",
   "execution_count": 62,
   "id": "romance-choir",
   "metadata": {},
   "outputs": [],
   "source": [
    "soubor = open(\"test.txt\", \"w\")\n",
    "soubor.write(\"Ahoj Jirko\" + \"\\n\")\n",
    "soubor.close()\n",
    "soubor = open(\"test.txt\", \"a\")\n",
    "soubor.write(\"Cau Jirko\")\n",
    "soubor.close()"
   ]
  },
  {
   "cell_type": "markdown",
   "id": "443170de",
   "metadata": {},
   "source": [
    "Cv.8 - Operacni system 1\n",
    "\n",
    "Napiste kod, ktery vytvori prazdny soubor s nazvem test.txt."
   ]
  },
  {
   "cell_type": "code",
   "execution_count": 39,
   "id": "0311b84a",
   "metadata": {},
   "outputs": [],
   "source": [
    "import os\n",
    "\n",
    "os.getcwd()\n",
    "soubor = open(\"test.txt\",\"w+\")\n",
    "soubor.close()"
   ]
  },
  {
   "cell_type": "markdown",
   "id": "5d1c99fa",
   "metadata": {},
   "source": [
    "Cv.9 - Operacni system 2\n",
    "\n",
    "Napiste kod, ktery prekopiruje obsah slozky A do slozky B."
   ]
  },
  {
   "cell_type": "code",
   "execution_count": 93,
   "id": "honest-sullivan",
   "metadata": {
    "scrolled": true
   },
   "outputs": [
    {
     "ename": "PermissionError",
     "evalue": "[Errno 13] Permission denied: 'C:\\\\Users\\\\Uživatel\\\\Documents\\\\Python Jup\\\\SlozkaA'",
     "output_type": "error",
     "traceback": [
      "\u001b[1;31m---------------------------------------------------------------------------\u001b[0m",
      "\u001b[1;31mPermissionError\u001b[0m                           Traceback (most recent call last)",
      "\u001b[1;32m<ipython-input-93-b0638e26d66e>\u001b[0m in \u001b[0;36m<module>\u001b[1;34m\u001b[0m\n\u001b[0;32m      3\u001b[0m \u001b[1;33m\u001b[0m\u001b[0m\n\u001b[0;32m      4\u001b[0m \u001b[0mcesta\u001b[0m \u001b[1;33m=\u001b[0m \u001b[0mos\u001b[0m\u001b[1;33m.\u001b[0m\u001b[0mgetcwd\u001b[0m\u001b[1;33m(\u001b[0m\u001b[1;33m)\u001b[0m\u001b[1;33m\u001b[0m\u001b[1;33m\u001b[0m\u001b[0m\n\u001b[1;32m----> 5\u001b[1;33m \u001b[0mshutil\u001b[0m\u001b[1;33m.\u001b[0m\u001b[0mcopy\u001b[0m\u001b[1;33m(\u001b[0m\u001b[0mcesta\u001b[0m \u001b[1;33m+\u001b[0m \u001b[1;34m\"\\\\SlozkaA\"\u001b[0m\u001b[1;33m,\u001b[0m \u001b[0mcesta\u001b[0m \u001b[1;33m+\u001b[0m \u001b[1;34m\"\\SlozkaB\"\u001b[0m\u001b[1;33m)\u001b[0m\u001b[1;33m\u001b[0m\u001b[1;33m\u001b[0m\u001b[0m\n\u001b[0m",
      "\u001b[1;32mc:\\users\\uživatel\\appdata\\local\\programs\\python\\python39\\lib\\shutil.py\u001b[0m in \u001b[0;36mcopy\u001b[1;34m(src, dst, follow_symlinks)\u001b[0m\n\u001b[0;32m    416\u001b[0m     \u001b[1;32mif\u001b[0m \u001b[0mos\u001b[0m\u001b[1;33m.\u001b[0m\u001b[0mpath\u001b[0m\u001b[1;33m.\u001b[0m\u001b[0misdir\u001b[0m\u001b[1;33m(\u001b[0m\u001b[0mdst\u001b[0m\u001b[1;33m)\u001b[0m\u001b[1;33m:\u001b[0m\u001b[1;33m\u001b[0m\u001b[1;33m\u001b[0m\u001b[0m\n\u001b[0;32m    417\u001b[0m         \u001b[0mdst\u001b[0m \u001b[1;33m=\u001b[0m \u001b[0mos\u001b[0m\u001b[1;33m.\u001b[0m\u001b[0mpath\u001b[0m\u001b[1;33m.\u001b[0m\u001b[0mjoin\u001b[0m\u001b[1;33m(\u001b[0m\u001b[0mdst\u001b[0m\u001b[1;33m,\u001b[0m \u001b[0mos\u001b[0m\u001b[1;33m.\u001b[0m\u001b[0mpath\u001b[0m\u001b[1;33m.\u001b[0m\u001b[0mbasename\u001b[0m\u001b[1;33m(\u001b[0m\u001b[0msrc\u001b[0m\u001b[1;33m)\u001b[0m\u001b[1;33m)\u001b[0m\u001b[1;33m\u001b[0m\u001b[1;33m\u001b[0m\u001b[0m\n\u001b[1;32m--> 418\u001b[1;33m     \u001b[0mcopyfile\u001b[0m\u001b[1;33m(\u001b[0m\u001b[0msrc\u001b[0m\u001b[1;33m,\u001b[0m \u001b[0mdst\u001b[0m\u001b[1;33m,\u001b[0m \u001b[0mfollow_symlinks\u001b[0m\u001b[1;33m=\u001b[0m\u001b[0mfollow_symlinks\u001b[0m\u001b[1;33m)\u001b[0m\u001b[1;33m\u001b[0m\u001b[1;33m\u001b[0m\u001b[0m\n\u001b[0m\u001b[0;32m    419\u001b[0m     \u001b[0mcopymode\u001b[0m\u001b[1;33m(\u001b[0m\u001b[0msrc\u001b[0m\u001b[1;33m,\u001b[0m \u001b[0mdst\u001b[0m\u001b[1;33m,\u001b[0m \u001b[0mfollow_symlinks\u001b[0m\u001b[1;33m=\u001b[0m\u001b[0mfollow_symlinks\u001b[0m\u001b[1;33m)\u001b[0m\u001b[1;33m\u001b[0m\u001b[1;33m\u001b[0m\u001b[0m\n\u001b[0;32m    420\u001b[0m     \u001b[1;32mreturn\u001b[0m \u001b[0mdst\u001b[0m\u001b[1;33m\u001b[0m\u001b[1;33m\u001b[0m\u001b[0m\n",
      "\u001b[1;32mc:\\users\\uživatel\\appdata\\local\\programs\\python\\python39\\lib\\shutil.py\u001b[0m in \u001b[0;36mcopyfile\u001b[1;34m(src, dst, follow_symlinks)\u001b[0m\n\u001b[0;32m    262\u001b[0m         \u001b[0mos\u001b[0m\u001b[1;33m.\u001b[0m\u001b[0msymlink\u001b[0m\u001b[1;33m(\u001b[0m\u001b[0mos\u001b[0m\u001b[1;33m.\u001b[0m\u001b[0mreadlink\u001b[0m\u001b[1;33m(\u001b[0m\u001b[0msrc\u001b[0m\u001b[1;33m)\u001b[0m\u001b[1;33m,\u001b[0m \u001b[0mdst\u001b[0m\u001b[1;33m)\u001b[0m\u001b[1;33m\u001b[0m\u001b[1;33m\u001b[0m\u001b[0m\n\u001b[0;32m    263\u001b[0m     \u001b[1;32melse\u001b[0m\u001b[1;33m:\u001b[0m\u001b[1;33m\u001b[0m\u001b[1;33m\u001b[0m\u001b[0m\n\u001b[1;32m--> 264\u001b[1;33m         \u001b[1;32mwith\u001b[0m \u001b[0mopen\u001b[0m\u001b[1;33m(\u001b[0m\u001b[0msrc\u001b[0m\u001b[1;33m,\u001b[0m \u001b[1;34m'rb'\u001b[0m\u001b[1;33m)\u001b[0m \u001b[1;32mas\u001b[0m \u001b[0mfsrc\u001b[0m\u001b[1;33m,\u001b[0m \u001b[0mopen\u001b[0m\u001b[1;33m(\u001b[0m\u001b[0mdst\u001b[0m\u001b[1;33m,\u001b[0m \u001b[1;34m'wb'\u001b[0m\u001b[1;33m)\u001b[0m \u001b[1;32mas\u001b[0m \u001b[0mfdst\u001b[0m\u001b[1;33m:\u001b[0m\u001b[1;33m\u001b[0m\u001b[1;33m\u001b[0m\u001b[0m\n\u001b[0m\u001b[0;32m    265\u001b[0m             \u001b[1;31m# macOS\u001b[0m\u001b[1;33m\u001b[0m\u001b[1;33m\u001b[0m\u001b[1;33m\u001b[0m\u001b[0m\n\u001b[0;32m    266\u001b[0m             \u001b[1;32mif\u001b[0m \u001b[0m_HAS_FCOPYFILE\u001b[0m\u001b[1;33m:\u001b[0m\u001b[1;33m\u001b[0m\u001b[1;33m\u001b[0m\u001b[0m\n",
      "\u001b[1;31mPermissionError\u001b[0m: [Errno 13] Permission denied: 'C:\\\\Users\\\\Uživatel\\\\Documents\\\\Python Jup\\\\SlozkaA'"
     ]
    }
   ],
   "source": [
    "import os\n",
    "import shutil\n",
    "\n",
    "cesta = os.getcwd()\n",
    "shutil.copy(cesta + \"\\\\SlozkaA\", cesta + \"\\SlozkaB\")"
   ]
  },
  {
   "cell_type": "markdown",
   "id": "85c07095",
   "metadata": {},
   "source": [
    "Cv.10 - Operacni system 3\n",
    "\n",
    "Napiste kod, ktery smaze vsechny slozky, jejichz nazev je v seznamu pro_smazani."
   ]
  },
  {
   "cell_type": "markdown",
   "id": "4a919825",
   "metadata": {},
   "source": [
    "Cv.11 - Operacni system 4\n",
    "\n",
    "Napiste kod, ktery vytvori vsechny slozky, jejichz nazev je v seznamu seznam_pro_vytvoreni. Kod napiste tak, aby neskoncil zadnou vyjimkou."
   ]
  },
  {
   "cell_type": "markdown",
   "id": "b2605acb",
   "metadata": {},
   "source": [
    "Cv.12 - Operacni system 5\n",
    "\n",
    "Napiste kod, ktery vyhleda ve slozce vsechny soubory s priponou \".txt\" a pripise na jejich konec hlasku \"baf :)\"."
   ]
  },
  {
   "cell_type": "markdown",
   "id": "45418d8e",
   "metadata": {},
   "source": [
    "Cv.13 - Operacni system 6\n",
    "\n",
    "Napiste kod, ktery zjisti, zda je aktualni pracovni adresar prazdny. Pokud neni, tak vypise na obrazovku hlasku \"jsou tu data!\"."
   ]
  },
  {
   "cell_type": "markdown",
   "id": "1df9f37a",
   "metadata": {},
   "source": [
    "Cv.14 - Operacni system 7\n",
    "\n",
    "Napiste kod, ktery zkopiruje obsah aktualniho pracovniho adresare do adresare zaloha."
   ]
  },
  {
   "cell_type": "markdown",
   "id": "e113208a",
   "metadata": {},
   "source": [
    "Cv.15 - Operacni system 8\n",
    "\n",
    "Napiste kod, ktery smaze vsechny soubory z aktualniho adresare zacinajici na pismeno \"a\"."
   ]
  },
  {
   "cell_type": "code",
   "execution_count": null,
   "id": "edf6ba6b",
   "metadata": {},
   "outputs": [],
   "source": []
  }
 ],
 "metadata": {
  "kernelspec": {
   "display_name": "Python 3",
   "language": "python",
   "name": "python3"
  },
  "language_info": {
   "codemirror_mode": {
    "name": "ipython",
    "version": 3
   },
   "file_extension": ".py",
   "mimetype": "text/x-python",
   "name": "python",
   "nbconvert_exporter": "python",
   "pygments_lexer": "ipython3",
   "version": "3.9.1"
  }
 },
 "nbformat": 4,
 "nbformat_minor": 5
}
